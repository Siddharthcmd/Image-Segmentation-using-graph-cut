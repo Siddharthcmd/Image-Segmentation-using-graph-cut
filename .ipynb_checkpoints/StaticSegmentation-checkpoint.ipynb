{
 "cells": [
  {
   "cell_type": "code",
   "execution_count": 1,
   "id": "3bfe50b1",
   "metadata": {},
   "outputs": [],
   "source": [
    "import cv2\n",
    "import sys\n",
    "import os\n",
    "import numpy as np\n",
    "import matplotlib.pyplot as plt\n",
    "from skimage.segmentation import slic\n",
    "from skimage.segmentation import mark_boundaries\n",
    "from skimage.data import astronaut\n",
    "from skimage.util import img_as_float\n",
    "import maxflow\n",
    "from scipy.spatial import Delaunay"
   ]
  },
  {
   "cell_type": "code",
   "execution_count": 2,
   "id": "40405276",
   "metadata": {},
   "outputs": [],
   "source": [
    "def superpixels_histograms_neighbors(img):\n",
    "    # SLIC\n",
    "    #http://scikit-image.org/docs/dev/api/skimage.segmentation.html#skimage.segmentation.slic\n",
    "    segments = slic(img, n_segments=500, compactness=18.5)\n",
    "    segments_ids = np.unique(segments)\n",
    "\n",
    "    # centers\n",
    "    centers = np.array([np.mean(np.nonzero(segments==i),axis=1) for i in segments_ids])\n",
    "\n",
    "    # H-S histograms for all superpixels\n",
    "    hsv = cv2.cvtColor(img.astype('float32'), cv2.COLOR_BGR2HSV)\n",
    "    bins = [20, 20] # H = S = 20\n",
    "    ranges = [0, 360, 0, 1] # H: [0, 360], S: [0, 1]\n",
    "    colors_hists = np.float32([cv2.calcHist([hsv],[0, 1], np.uint8(segments==i), bins, ranges).flatten() for i in segments_ids])\n",
    "\n",
    "    # neighbors via Delaunay tesselation\n",
    "    tri = Delaunay(centers)\n",
    "\n",
    "    return (centers,colors_hists,segments,tri.vertex_neighbor_vertices)"
   ]
  },
  {
   "cell_type": "code",
   "execution_count": 3,
   "id": "c09e69d5",
   "metadata": {},
   "outputs": [],
   "source": [
    "def find_superpixels_under_marking(marking, superpixels):\n",
    "    fg_segments = np.unique(superpixels[marking[:,:,0]!=255])\n",
    "    bg_segments = np.unique(superpixels[marking[:,:,2]!=255])\n",
    "    return (fg_segments, bg_segments)"
   ]
  },
  {
   "cell_type": "code",
   "execution_count": 4,
   "id": "b709ca9e",
   "metadata": {},
   "outputs": [],
   "source": [
    "def cumulative_histogram_for_superpixels(ids, histograms):\n",
    "    h = np.sum(histograms[ids],axis=0)\n",
    "    return h / h.sum()"
   ]
  },
  {
   "cell_type": "code",
   "execution_count": 5,
   "id": "21089f2b",
   "metadata": {},
   "outputs": [],
   "source": [
    "def pixels_for_segment_selection(superpixels_labels, selection):\n",
    "    pixels_mask = np.where(np.isin(superpixels_labels, selection), True, False)\n",
    "    return pixels_mask"
   ]
  },
  {
   "cell_type": "code",
   "execution_count": 6,
   "id": "c4f4a116",
   "metadata": {},
   "outputs": [],
   "source": [
    "def normalize_histograms(histograms):\n",
    "    return np.float32([h / h.sum() for h in histograms])"
   ]
  },
  {
   "cell_type": "code",
   "execution_count": 7,
   "id": "8ef345fd",
   "metadata": {},
   "outputs": [],
   "source": [
    "def do_graph_cut(fgbg_hists, fgbg_superpixels, norm_hists, neighbors):\n",
    "    num_nodes = norm_hists.shape[0]\n",
    "    # Create a graph of N nodes, and estimate of 5 edges per node\n",
    "    g = maxflow.Graph[float](num_nodes, num_nodes * 5)\n",
    "    # Add N nodes\n",
    "    nodes = g.add_nodes(num_nodes)\n",
    "\n",
    "    hist_comp_alg = cv2.HISTCMP_KL_DIV\n",
    "\n",
    "    # Smoothness term: cost between neighbors\n",
    "    indptr,indices = neighbors\n",
    "    for i in range(len(indptr)-1):\n",
    "        N = indices[indptr[i]:indptr[i+1]] # list of neighbor superpixels\n",
    "        hi = norm_hists[i]                 # histogram for center\n",
    "        for n in N:\n",
    "            if (n < 0) or (n > num_nodes):\n",
    "                continue\n",
    "            # Create two edges (forwards and backwards) with capacities based on\n",
    "            # histogram matching\n",
    "            hn = norm_hists[n]             # histogram for neighbor\n",
    "            g.add_edge(nodes[i], nodes[n], 20-cv2.compareHist(hi, hn, hist_comp_alg),\n",
    "                                           20-cv2.compareHist(hn, hi, hist_comp_alg))\n",
    "\n",
    "    # Match term: cost to FG/BG\n",
    "    for i,h in enumerate(norm_hists):\n",
    "        if i in fgbg_superpixels[0]:\n",
    "            g.add_tedge(nodes[i], 0, 1000) # FG - set high cost to BG\n",
    "        elif i in fgbg_superpixels[1]:\n",
    "            g.add_tedge(nodes[i], 1000, 0) # BG - set high cost to FG\n",
    "        else:\n",
    "            g.add_tedge(nodes[i], cv2.compareHist(fgbg_hists[0], h, hist_comp_alg),\n",
    "                                  cv2.compareHist(fgbg_hists[1], h, hist_comp_alg))\n",
    "\n",
    "    g.maxflow()\n",
    "    return g.get_grid_segments(nodes)\n"
   ]
  },
  {
   "cell_type": "code",
   "execution_count": 8,
   "id": "794fde48",
   "metadata": {},
   "outputs": [
    {
     "name": "stderr",
     "output_type": "stream",
     "text": [
      "/tmp/ipykernel_3663/2984773493.py:4: FutureWarning: skimage.measure.label's indexing starts from 0. In future version it will start from 1. To disable this warning, explicitely set the `start_label` parameter to 1.\n",
      "  segments = slic(img, n_segments=500, compactness=18.5)\n"
     ]
    },
    {
     "name": "stdout",
     "output_type": "stream",
     "text": [
      "threshold:  0.0\n"
     ]
    }
   ],
   "source": [
    "if __name__ == '__main__':\n",
    "\n",
    "    imgname = '3.png'\n",
    "    img = cv2.imread(imgname)\n",
    "    img_marking = cv2.imread('3m.png', cv2.IMREAD_COLOR)\n",
    "\n",
    "    #Calculating SLIC over image\n",
    "    centers, color_hists, superpixels, neighbors = superpixels_histograms_neighbors(img)\n",
    "\n",
    "    #Calculating Foreground and Background superpixels using marking \"astronaut_marking.png\"\n",
    "    fg_segments, bg_segments = find_superpixels_under_marking(img_marking, superpixels)\n",
    "\n",
    "    #Calculating color histograms for FG\n",
    "    fg_cumulative_hist = cumulative_histogram_for_superpixels(fg_segments, color_hists)\n",
    "\n",
    "    #Calculating color histograms for BG\n",
    "    bg_cumulative_hist = cumulative_histogram_for_superpixels(bg_segments, color_hists)\n",
    "\n",
    "    norm_hists = normalize_histograms(color_hists)\n",
    "\n",
    "    #Construct a graph that takes into account superpixel-to-superpixel interaction (smoothness term), as well as superpixel-FG/BG interaction (match term)\n",
    "    graph_cut = do_graph_cut([fg_cumulative_hist,bg_cumulative_hist], [fg_segments,bg_segments], norm_hists, neighbors)\n",
    "\n",
    "    mask = pixels_for_segment_selection(superpixels, np.nonzero(graph_cut))\n",
    "    # mask is bool, conver 1 to 255 and 0 will remain 0 for displaying purpose\n",
    "    mask = np.uint8(mask * 255)\n",
    "    \n",
    "    thr, bin = cv2.threshold(mask, 0.1, 255.0, cv2.THRESH_BINARY);\n",
    "    print(\"threshold: \",thr)\n",
    "    mask = cv2.resize(mask, (img.shape[1], img.shape[0]))\n",
    "    result = cv2.bitwise_or(img, img, mask=mask);\n",
    "    cv2.imwrite(imgname+\"mask.png\", result);\n",
    "    path = '/home/captainvish/Project/ML/Output'\n",
    "    cv2.imwrite(os.path.join(path , imgname+\"mask.png\"), result)\n",
    "    cv2.waitKey(0)"
   ]
  },
  {
   "cell_type": "code",
   "execution_count": null,
   "id": "0c3c0de5",
   "metadata": {},
   "outputs": [],
   "source": []
  },
  {
   "cell_type": "code",
   "execution_count": null,
   "id": "863b365c",
   "metadata": {},
   "outputs": [],
   "source": []
  }
 ],
 "metadata": {
  "kernelspec": {
   "display_name": "Python 3 (ipykernel)",
   "language": "python",
   "name": "python3"
  },
  "language_info": {
   "codemirror_mode": {
    "name": "ipython",
    "version": 3
   },
   "file_extension": ".py",
   "mimetype": "text/x-python",
   "name": "python",
   "nbconvert_exporter": "python",
   "pygments_lexer": "ipython3",
   "version": "3.8.10"
  }
 },
 "nbformat": 4,
 "nbformat_minor": 5
}
